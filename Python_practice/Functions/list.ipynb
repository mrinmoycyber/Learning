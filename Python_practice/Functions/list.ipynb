{
 "cells": [
  {
   "cell_type": "markdown",
   "id": "5f30322e",
   "metadata": {},
   "source": [
    "##Default Arguments"
   ]
  },
  {
   "cell_type": "code",
   "execution_count": 2,
   "id": "9c4c6c21",
   "metadata": {},
   "outputs": [
    {
     "data": {
      "text/plain": [
       "150"
      ]
     },
     "execution_count": 2,
     "metadata": {},
     "output_type": "execute_result"
    }
   ],
   "source": [
    "def cuboid(l,b,h):\n",
    "    v = l * b * h \n",
    "    return v\n",
    "\n",
    "v = cuboid (10, 5, 3)\n",
    "v\n"
   ]
  },
  {
   "cell_type": "code",
   "execution_count": 4,
   "id": "e540be24",
   "metadata": {},
   "outputs": [
    {
     "name": "stdout",
     "output_type": "stream",
     "text": [
      "150\n"
     ]
    }
   ],
   "source": [
    "print(v)"
   ]
  },
  {
   "cell_type": "code",
   "execution_count": 5,
   "id": "b006109f",
   "metadata": {},
   "outputs": [
    {
     "data": {
      "text/plain": [
       "1000"
      ]
     },
     "execution_count": 5,
     "metadata": {},
     "output_type": "execute_result"
    }
   ],
   "source": [
    "def cuboid(l,b,h=10):\n",
    "    v = l * b * h \n",
    "    return v\n",
    "\n",
    "v = cuboid (10, 10)\n",
    "v"
   ]
  },
  {
   "cell_type": "code",
   "execution_count": null,
   "id": "7da8a68b",
   "metadata": {},
   "outputs": [],
   "source": [
    "# remeber once you strt with a default argument, you need to declare everything default argument\n",
    "\n",
    "#not correct\n",
    "# SyntaxError: non-default argument follows default argument\n",
    "def cuboid(l=1,b,h=1):\n",
    "    v = l * b * h \n",
    "    return v\n",
    "\n",
    "v = cuboid (5)\n",
    "v"
   ]
  },
  {
   "cell_type": "code",
   "execution_count": 3,
   "id": "e6fd3e62",
   "metadata": {},
   "outputs": [
    {
     "data": {
      "text/plain": [
       "1"
      ]
     },
     "execution_count": 3,
     "metadata": {},
     "output_type": "execute_result"
    }
   ],
   "source": [
    "# correct\n",
    "# taking default values\n",
    "\n",
    "def cuboid(l=1,b=1,h=1):\n",
    "    v = l * b * h \n",
    "    return v\n",
    "\n",
    "v = cuboid ()\n",
    "v"
   ]
  },
  {
   "cell_type": "code",
   "execution_count": 7,
   "id": "540f61ed",
   "metadata": {},
   "outputs": [
    {
     "name": "stdout",
     "output_type": "stream",
     "text": [
      "[2, 3, 5, 3]\n",
      "[2, 3, 5, 3, 4]\n"
     ]
    }
   ],
   "source": [
    "def fun (l = [2,3,5]):\n",
    "    l.append(len(l))\n",
    "    print(l)\n",
    "    \n",
    "fun()\n",
    "fun()"
   ]
  }
 ],
 "metadata": {
  "kernelspec": {
   "display_name": ".venv",
   "language": "python",
   "name": "python3"
  },
  "language_info": {
   "codemirror_mode": {
    "name": "ipython",
    "version": 3
   },
   "file_extension": ".py",
   "mimetype": "text/x-python",
   "name": "python",
   "nbconvert_exporter": "python",
   "pygments_lexer": "ipython3",
   "version": "3.11.10"
  }
 },
 "nbformat": 4,
 "nbformat_minor": 5
}
